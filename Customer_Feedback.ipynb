{
 "cells": [
  {
   "cell_type": "markdown",
   "metadata": {},
   "source": [
    "[jieba分词](https://github.com/fxsjy/jieba)"
   ]
  },
  {
   "cell_type": "code",
   "execution_count": 1,
   "metadata": {},
   "outputs": [
    {
     "name": "stderr",
     "output_type": "stream",
     "text": [
      "D:\\Anaconda\\lib\\site-packages\\h5py\\__init__.py:36: FutureWarning: Conversion of the second argument of issubdtype from `float` to `np.floating` is deprecated. In future, it will be treated as `np.float64 == np.dtype(float).type`.\n",
      "  from ._conv import register_converters as _register_converters\n",
      "Using TensorFlow backend.\n"
     ]
    }
   ],
   "source": [
    "import pandas as pd \n",
    "import jieba\n",
    "import jieba.analyse\n",
    "import numpy as np\n",
    "import random \n",
    "import matplotlib.pyplot as plt\n",
    "from wordcloud import WordCloud\n",
    "from scipy.misc import imread\n",
    "import warnings \n",
    "from sklearn.model_selection import train_test_split\n",
    "from keras import  Sequential\n",
    "from keras.layers import Dense,Dropout\n",
    "from keras.callbacks import EarlyStopping\n",
    "from keras.preprocessing.sequence import pad_sequences\n",
    "from keras.backend import one_hot\n",
    "from keras.preprocessing.text import Tokenizer\n",
    "from keras import  Sequential\n",
    "from keras.layers import Dense,Dropout\n",
    "from keras.callbacks import EarlyStopping\n",
    "from keras.layers import Embedding,BatchNormalization\n",
    "from keras.layers import Convolution1D, Flatten, Dropout, MaxPool1D, GlobalAveragePooling1D\n",
    "\n",
    "warnings.filterwarnings('ignore')"
   ]
  },
  {
   "cell_type": "code",
   "execution_count": 2,
   "metadata": {
    "scrolled": true
   },
   "outputs": [
    {
     "data": {
      "text/html": [
       "<div>\n",
       "<style scoped>\n",
       "    .dataframe tbody tr th:only-of-type {\n",
       "        vertical-align: middle;\n",
       "    }\n",
       "\n",
       "    .dataframe tbody tr th {\n",
       "        vertical-align: top;\n",
       "    }\n",
       "\n",
       "    .dataframe thead th {\n",
       "        text-align: right;\n",
       "    }\n",
       "</style>\n",
       "<table border=\"1\" class=\"dataframe\">\n",
       "  <thead>\n",
       "    <tr style=\"text-align: right;\">\n",
       "      <th></th>\n",
       "      <th>航班号</th>\n",
       "      <th>航班日期</th>\n",
       "      <th>出发地编码</th>\n",
       "      <th>目的地编码</th>\n",
       "      <th>均分</th>\n",
       "      <th>评论</th>\n",
       "    </tr>\n",
       "  </thead>\n",
       "  <tbody>\n",
       "    <tr>\n",
       "      <th>2917</th>\n",
       "      <td>ZH9992</td>\n",
       "      <td>2019/1/8</td>\n",
       "      <td>KHN</td>\n",
       "      <td>CAN</td>\n",
       "      <td>5.00</td>\n",
       "      <td>都不错</td>\n",
       "    </tr>\n",
       "    <tr>\n",
       "      <th>2918</th>\n",
       "      <td>ZH9992</td>\n",
       "      <td>2019/1/14</td>\n",
       "      <td>TAO</td>\n",
       "      <td>KHN</td>\n",
       "      <td>2.50</td>\n",
       "      <td>餐食难吃，比路边摊还难吃。客舱拥挤这个已经习惯了，但是呆里面看快两个小时起飞。连饮料都没有。...</td>\n",
       "    </tr>\n",
       "    <tr>\n",
       "      <th>2919</th>\n",
       "      <td>ZH9993</td>\n",
       "      <td>2019/1/16</td>\n",
       "      <td>CAN</td>\n",
       "      <td>TAO</td>\n",
       "      <td>4.67</td>\n",
       "      <td>空乘服务好，准时抵达，</td>\n",
       "    </tr>\n",
       "    <tr>\n",
       "      <th>2920</th>\n",
       "      <td>ZH9995</td>\n",
       "      <td>2019/1/5</td>\n",
       "      <td>CAN</td>\n",
       "      <td>JJN</td>\n",
       "      <td>5.00</td>\n",
       "      <td>餐食好吃，准时抵达.</td>\n",
       "    </tr>\n",
       "    <tr>\n",
       "      <th>2922</th>\n",
       "      <td>ZH9996</td>\n",
       "      <td>2019/1/9</td>\n",
       "      <td>JJN</td>\n",
       "      <td>CAN</td>\n",
       "      <td>4.92</td>\n",
       "      <td>安检很快，机场商品多，餐食好吃，值机快捷，准时抵达，座椅舒适，空乘服务好，/商务舱依旧柜台值...</td>\n",
       "    </tr>\n",
       "  </tbody>\n",
       "</table>\n",
       "</div>"
      ],
      "text/plain": [
       "         航班号       航班日期 出发地编码 目的地编码    均分  \\\n",
       "2917  ZH9992   2019/1/8   KHN   CAN  5.00   \n",
       "2918  ZH9992  2019/1/14   TAO   KHN  2.50   \n",
       "2919  ZH9993  2019/1/16   CAN   TAO  4.67   \n",
       "2920  ZH9995   2019/1/5   CAN   JJN  5.00   \n",
       "2922  ZH9996   2019/1/9   JJN   CAN  4.92   \n",
       "\n",
       "                                                     评论  \n",
       "2917                                                都不错  \n",
       "2918  餐食难吃，比路边摊还难吃。客舱拥挤这个已经习惯了，但是呆里面看快两个小时起飞。连饮料都没有。...  \n",
       "2919                                        空乘服务好，准时抵达，  \n",
       "2920                                         餐食好吃，准时抵达.  \n",
       "2922  安检很快，机场商品多，餐食好吃，值机快捷，准时抵达，座椅舒适，空乘服务好，/商务舱依旧柜台值...  "
      ]
     },
     "execution_count": 2,
     "metadata": {},
     "output_type": "execute_result"
    }
   ],
   "source": [
    "df = pd.read_csv('./data/2019S1customer_feedback.csv',encoding='gbk')\n",
    "df = df.dropna(how = 'any')\n",
    "df.tail()"
   ]
  },
  {
   "cell_type": "code",
   "execution_count": 3,
   "metadata": {},
   "outputs": [
    {
     "data": {
      "text/html": [
       "<div>\n",
       "<style scoped>\n",
       "    .dataframe tbody tr th:only-of-type {\n",
       "        vertical-align: middle;\n",
       "    }\n",
       "\n",
       "    .dataframe tbody tr th {\n",
       "        vertical-align: top;\n",
       "    }\n",
       "\n",
       "    .dataframe thead th {\n",
       "        text-align: right;\n",
       "    }\n",
       "</style>\n",
       "<table border=\"1\" class=\"dataframe\">\n",
       "  <thead>\n",
       "    <tr style=\"text-align: right;\">\n",
       "      <th></th>\n",
       "      <th>航班号</th>\n",
       "      <th>航班日期</th>\n",
       "      <th>出发地编码</th>\n",
       "      <th>目的地编码</th>\n",
       "      <th>均分</th>\n",
       "      <th>评论</th>\n",
       "      <th>情感</th>\n",
       "    </tr>\n",
       "  </thead>\n",
       "  <tbody>\n",
       "    <tr>\n",
       "      <th>2917</th>\n",
       "      <td>ZH9992</td>\n",
       "      <td>2019/1/8</td>\n",
       "      <td>KHN</td>\n",
       "      <td>CAN</td>\n",
       "      <td>5.00</td>\n",
       "      <td>都不错</td>\n",
       "      <td>Positive</td>\n",
       "    </tr>\n",
       "    <tr>\n",
       "      <th>2918</th>\n",
       "      <td>ZH9992</td>\n",
       "      <td>2019/1/14</td>\n",
       "      <td>TAO</td>\n",
       "      <td>KHN</td>\n",
       "      <td>2.50</td>\n",
       "      <td>餐食难吃，比路边摊还难吃。客舱拥挤这个已经习惯了，但是呆里面看快两个小时起飞。连饮料都没有。...</td>\n",
       "      <td>Negative</td>\n",
       "    </tr>\n",
       "    <tr>\n",
       "      <th>2919</th>\n",
       "      <td>ZH9993</td>\n",
       "      <td>2019/1/16</td>\n",
       "      <td>CAN</td>\n",
       "      <td>TAO</td>\n",
       "      <td>4.67</td>\n",
       "      <td>空乘服务好，准时抵达，</td>\n",
       "      <td>Positive</td>\n",
       "    </tr>\n",
       "    <tr>\n",
       "      <th>2920</th>\n",
       "      <td>ZH9995</td>\n",
       "      <td>2019/1/5</td>\n",
       "      <td>CAN</td>\n",
       "      <td>JJN</td>\n",
       "      <td>5.00</td>\n",
       "      <td>餐食好吃，准时抵达.</td>\n",
       "      <td>Positive</td>\n",
       "    </tr>\n",
       "    <tr>\n",
       "      <th>2922</th>\n",
       "      <td>ZH9996</td>\n",
       "      <td>2019/1/9</td>\n",
       "      <td>JJN</td>\n",
       "      <td>CAN</td>\n",
       "      <td>4.92</td>\n",
       "      <td>安检很快，机场商品多，餐食好吃，值机快捷，准时抵达，座椅舒适，空乘服务好，/商务舱依旧柜台值...</td>\n",
       "      <td>Positive</td>\n",
       "    </tr>\n",
       "  </tbody>\n",
       "</table>\n",
       "</div>"
      ],
      "text/plain": [
       "         航班号       航班日期 出发地编码 目的地编码    均分  \\\n",
       "2917  ZH9992   2019/1/8   KHN   CAN  5.00   \n",
       "2918  ZH9992  2019/1/14   TAO   KHN  2.50   \n",
       "2919  ZH9993  2019/1/16   CAN   TAO  4.67   \n",
       "2920  ZH9995   2019/1/5   CAN   JJN  5.00   \n",
       "2922  ZH9996   2019/1/9   JJN   CAN  4.92   \n",
       "\n",
       "                                                     评论        情感  \n",
       "2917                                                都不错  Positive  \n",
       "2918  餐食难吃，比路边摊还难吃。客舱拥挤这个已经习惯了，但是呆里面看快两个小时起飞。连饮料都没有。...  Negative  \n",
       "2919                                        空乘服务好，准时抵达，  Positive  \n",
       "2920                                         餐食好吃，准时抵达.  Positive  \n",
       "2922  安检很快，机场商品多，餐食好吃，值机快捷，准时抵达，座椅舒适，空乘服务好，/商务舱依旧柜台值...  Positive  "
      ]
     },
     "execution_count": 3,
     "metadata": {},
     "output_type": "execute_result"
    }
   ],
   "source": [
    "def emotion(x):\n",
    "    emo = None\n",
    "    if x <= 4.5 :\n",
    "        emo = 'Negative'\n",
    "    else:\n",
    "        emo = 'Positive'\n",
    "    return emo\n",
    "\n",
    "df['情感'] = df['均分'].apply(lambda x:emotion(x))\n",
    "df.tail()"
   ]
  },
  {
   "cell_type": "code",
   "execution_count": 4,
   "metadata": {},
   "outputs": [
    {
     "name": "stdout",
     "output_type": "stream",
     "text": [
      "Positive record : 1620\n",
      "Negative record : 1071\n"
     ]
    }
   ],
   "source": [
    "df_groupby_emo = df.groupby(by = '情感')\n",
    "print('Positive record : %d' %df_groupby_emo.get_group('Positive').shape[0])\n",
    "print('Negative record : %d' %df_groupby_emo.get_group('Negative').shape[0])"
   ]
  },
  {
   "cell_type": "code",
   "execution_count": 5,
   "metadata": {},
   "outputs": [
    {
     "name": "stderr",
     "output_type": "stream",
     "text": [
      "Building prefix dict from the default dictionary ...\n",
      "Loading model from cache C:\\Users\\aljgq\\AppData\\Local\\Temp\\jieba.cache\n",
      "Loading model cost 0.736 seconds.\n",
      "Prefix dict has been built succesfully.\n"
     ]
    },
    {
     "name": "stdout",
     "output_type": "stream",
     "text": [
      "['空乘', '值机', '安检', '准时', '餐食', '快捷', '抵达', '服务', '座椅', '很快']\n",
      "['服务', '机场', '值机', '餐食', '商品', '座椅', '飞机', '小时', '航班', '晚点']\n"
     ]
    }
   ],
   "source": [
    "long_sentences = ''.join(df['评论'].values)\n",
    "#TF-IDF\n",
    "tf_top10 = jieba.analyse.extract_tags(long_sentences, topK=10, withWeight=False, allowPOS=())\n",
    "print(tf_top10 )\n",
    "#TextRank\n",
    "tr_topK = jieba.analyse.textrank(long_sentences, topK=10, withWeight=False, allowPOS=('ns', 'n', 'vn'))\n",
    "print(tr_topK)"
   ]
  },
  {
   "cell_type": "code",
   "execution_count": 6,
   "metadata": {
    "scrolled": true
   },
   "outputs": [
    {
     "data": {
      "image/png": "[encoded data removed]",
      "text/plain": [
       "<Figure size 432x288 with 1 Axes>"
      ]
     },
     "metadata": {},
     "output_type": "display_data"
    }
   ],
   "source": [
    "#背景图\n",
    "bg_pic = imread('mask.jpg')\n",
    "#生成词云\n",
    "wordcloud = WordCloud(background_color=\"white\",width=10, scale=6,\n",
    "                      font_path=\"C://Windows//Fonts/simhei.ttf\",height=8, max_words=30,max_font_size=60,\n",
    "                    mask = bg_pic).generate(' '.join(tr_topK))\n",
    "\n",
    "plt.figure(figsize=(6,4))\n",
    "plt.imshow(wordcloud)\n",
    "plt.axis(\"off\")\n",
    "#plt.savefig('logo.png')\n",
    "wordcloud.to_file('text.png')\n",
    "plt.show()"
   ]
  },
  {
   "cell_type": "code",
   "execution_count": 7,
   "metadata": {},
   "outputs": [],
   "source": [
    "stopwords=pd.read_csv(\"./data/stopwords.txt\",index_col=False,quoting=3,sep=\"\\t\",names=['stopword'], encoding='utf-8')\n",
    "stopwords=stopwords['stopword'].values"
   ]
  },
  {
   "cell_type": "code",
   "execution_count": 8,
   "metadata": {},
   "outputs": [],
   "source": [
    "def preprocess_text(content_lines, sentences):\n",
    "    for line in content_lines:\n",
    "        try:\n",
    "            segs=jieba.lcut(line)\n",
    "            segs = filter(lambda x:len(x)>1, segs)\n",
    "            segs = filter(lambda x:x not in stopwords, segs)\n",
    "            segs = list(segs)\n",
    "            sentences.append(\" \".join(segs))\n",
    "        except Exception:\n",
    "            print(line)\n",
    "            continue \n",
    "            \n",
    "content = df['评论'].values\n",
    "#生成训练数据\n",
    "sentences = []\n",
    "preprocess_text(content, sentences)"
   ]
  },
  {
   "cell_type": "code",
   "execution_count": 9,
   "metadata": {
    "scrolled": true
   },
   "outputs": [
    {
     "data": {
      "text/plain": [
       "['机场 晚点 晚点 中国 飞机 正点 起飞',\n",
       " '空乘 服务 准时 抵达 安检 很快 很快',\n",
       " '安检 很快 机场 商品 餐食 好吃 准时 抵达',\n",
       " '餐食 好吃 准时 抵达 值机 快捷',\n",
       " '餐食 好吃 安检 很快 值机 快捷 机场 商品',\n",
       " '安检 很快 值机 快捷 座椅 舒适 空乘 服务',\n",
       " '准时 抵达 空乘 服务 座椅 舒适 安检 很快 餐食 好吃 值机 快捷 机场 商品',\n",
       " '准时 抵达 值机 快捷 空乘 服务 一路 平稳 到达',\n",
       " '准时 抵达 座椅 舒适 值机 快捷 真心 不错',\n",
       " '空乘 服务 座椅 舒适 安检 很快']"
      ]
     },
     "execution_count": 9,
     "metadata": {},
     "output_type": "execute_result"
    }
   ],
   "source": [
    "sentences[:10]"
   ]
  },
  {
   "cell_type": "code",
   "execution_count": 10,
   "metadata": {},
   "outputs": [],
   "source": [
    "sample_amount_n = 1000\n",
    "sample_amount_p = 1000\n",
    "pos_content = list(df['评论'][df['情感'] == 'Positive'].values)\n",
    "neg_content = list(df['评论'][df['情感'] == 'Negative'].values)\n",
    "random.shuffle(pos_content)\n",
    "random.shuffle(neg_content)\n",
    "df_sample_p,df_sample_n = pd.DataFrame(),pd.DataFrame()\n",
    "df_sample_p['content'] = pos_content[:sample_amount_p]\n",
    "df_sample_p['emotion'] = 'positive'\n",
    "df_sample_n['content'] = neg_content[:sample_amount_n]\n",
    "df_sample_n['emotion'] = 'negative'\n",
    "df_sample = pd.concat([df_sample_n,df_sample_p],ignore_index=True)"
   ]
  },
  {
   "cell_type": "code",
   "execution_count": 11,
   "metadata": {},
   "outputs": [
    {
     "data": {
      "text/plain": [
       "array(['negative', 'positive'], dtype=object)"
      ]
     },
     "execution_count": 11,
     "metadata": {},
     "output_type": "execute_result"
    }
   ],
   "source": [
    "df_sample['emotion'].unique()"
   ]
  },
  {
   "cell_type": "code",
   "execution_count": 12,
   "metadata": {},
   "outputs": [],
   "source": [
    "text_content = df_sample['content'].values\n",
    "text_feature = df_sample['emotion'].values\n",
    "df_f = pd.DataFrame()\n",
    "df_f['feature'] = text_feature\n",
    "text_feature = pd.get_dummies(df_f)"
   ]
  },
  {
   "cell_type": "code",
   "execution_count": 13,
   "metadata": {},
   "outputs": [],
   "source": [
    "x_train, x_test, y_train, y_test = train_test_split(text_content,text_feature, random_state = 95361,test_size = 0.5)"
   ]
  },
  {
   "cell_type": "code",
   "execution_count": 14,
   "metadata": {},
   "outputs": [],
   "source": [
    "tokenizer = Tokenizer(num_words = 800,filters='!\"#$%&()*+,-./:;<=>?@[\\\\]^_`{|}~\\t\\n',lower=False,split=\" \")\n",
    "\n",
    "tokenizer.fit_on_texts(text_content)\n",
    "vocab = tokenizer.word_index\n",
    "#vocabulary\n",
    "X_train_word_ids = tokenizer.texts_to_sequences(x_train)\n",
    "X_test_word_ids = tokenizer.texts_to_sequences(x_test)"
   ]
  },
  {
   "cell_type": "code",
   "execution_count": 15,
   "metadata": {},
   "outputs": [
    {
     "name": "stdout",
     "output_type": "stream",
     "text": [
      "vocab have been saved!\n"
     ]
    }
   ],
   "source": [
    "np.save('./saved_model/vocab_dict.npy', vocab) \n",
    "print('vocab have been saved!')"
   ]
  },
  {
   "cell_type": "code",
   "execution_count": 16,
   "metadata": {},
   "outputs": [],
   "source": [
    "# One-hot\n",
    "X_train_fit = tokenizer.sequences_to_matrix(X_train_word_ids, mode='binary')\n",
    "X_test_fit = tokenizer.sequences_to_matrix(X_test_word_ids, mode='binary')"
   ]
  },
  {
   "cell_type": "code",
   "execution_count": 17,
   "metadata": {},
   "outputs": [
    {
     "name": "stdout",
     "output_type": "stream",
     "text": [
      "WARNING:tensorflow:From D:\\Anaconda\\lib\\site-packages\\tensorflow\\python\\framework\\op_def_library.py:263: colocate_with (from tensorflow.python.framework.ops) is deprecated and will be removed in a future version.\n",
      "Instructions for updating:\n",
      "Colocations handled automatically by placer.\n",
      "WARNING:tensorflow:From D:\\Anaconda\\lib\\site-packages\\keras\\backend\\tensorflow_backend.py:3445: calling dropout (from tensorflow.python.ops.nn_ops) with keep_prob is deprecated and will be removed in a future version.\n",
      "Instructions for updating:\n",
      "Please use `rate` instead of `keep_prob`. Rate should be set to `rate = 1 - keep_prob`.\n",
      "WARNING:tensorflow:From D:\\Anaconda\\lib\\site-packages\\tensorflow\\python\\ops\\math_ops.py:3066: to_int32 (from tensorflow.python.ops.math_ops) is deprecated and will be removed in a future version.\n",
      "Instructions for updating:\n",
      "Use tf.cast instead.\n",
      "Train on 1000 samples, validate on 1000 samples\n",
      "Epoch 1/20\n",
      "1000/1000 [==============================] - 2s 2ms/step - loss: 0.6835 - binary_accuracy: 0.6130 - val_loss: 0.6623 - val_binary_accuracy: 0.7460\n",
      "Epoch 2/20\n",
      "1000/1000 [==============================] - 0s 417us/step - loss: 0.6468 - binary_accuracy: 0.7240 - val_loss: 0.6262 - val_binary_accuracy: 0.7460\n",
      "Epoch 3/20\n",
      "1000/1000 [==============================] - 0s 327us/step - loss: 0.6000 - binary_accuracy: 0.7280 - val_loss: 0.5862 - val_binary_accuracy: 0.7450\n",
      "Epoch 4/20\n",
      "1000/1000 [==============================] - 0s 309us/step - loss: 0.5428 - binary_accuracy: 0.7640 - val_loss: 0.5604 - val_binary_accuracy: 0.7430\n",
      "Epoch 00004: early stopping\n",
      "1000/1000 [==============================] - 0s 77us/step\n"
     ]
    },
    {
     "data": {
      "text/plain": [
       "0.743"
      ]
     },
     "execution_count": 17,
     "metadata": {},
     "output_type": "execute_result"
    }
   ],
   "source": [
    "model = Sequential()\n",
    "# 全连接层\n",
    "model.add(Dense(128, input_shape=(800,), activation='relu'))\n",
    "# DropOut层\n",
    "model.add(Dropout(0.5))\n",
    "# 全连接层\n",
    "model.add(Dense(64,activation = 'relu'))\n",
    "# 全连接层+分类器\n",
    "model.add(Dropout(0.5))\n",
    "\n",
    "model.add(Dense(2,activation='softmax'))\n",
    "\n",
    "model.compile(loss='binary_crossentropy',\n",
    "              optimizer='adam',\n",
    "              metrics=['binary_accuracy'])\n",
    "# early_stopping\n",
    "early_stopping = EarlyStopping(monitor='val_binary_accuracy', patience = 3, verbose=2)\n",
    "\n",
    "model.fit(X_train_fit, y_train,\n",
    "          batch_size = 16,\n",
    "          epochs = 20,callbacks=[early_stopping],\n",
    "          validation_data=(X_test_fit, y_test))\n",
    "model.evaluate(X_test_fit,y_test,batch_size = 16)[1]"
   ]
  },
  {
   "cell_type": "code",
   "execution_count": 24,
   "metadata": {
    "scrolled": true
   },
   "outputs": [
    {
     "name": "stdout",
     "output_type": "stream",
     "text": [
      "Train on 1000 samples, validate on 1000 samples\n",
      "Epoch 1/20\n",
      "1000/1000 [==============================] - 2s 2ms/step - loss: 0.8996 - binary_accuracy: 0.5100 - val_loss: 0.7186 - val_binary_accuracy: 0.5010\n",
      "Epoch 2/20\n",
      "1000/1000 [==============================] - 1s 1ms/step - loss: 0.7584 - binary_accuracy: 0.5390 - val_loss: 0.6901 - val_binary_accuracy: 0.5020\n",
      "Epoch 3/20\n",
      "1000/1000 [==============================] - 1s 1ms/step - loss: 0.7026 - binary_accuracy: 0.5260 - val_loss: 0.7297 - val_binary_accuracy: 0.5010\n",
      "Epoch 4/20\n",
      "1000/1000 [==============================] - 1s 1ms/step - loss: 0.6959 - binary_accuracy: 0.5230 - val_loss: 0.7117 - val_binary_accuracy: 0.4990\n",
      "Epoch 5/20\n",
      "1000/1000 [==============================] - 1s 1ms/step - loss: 0.6854 - binary_accuracy: 0.5500 - val_loss: 0.9454 - val_binary_accuracy: 0.5010\n",
      "Epoch 6/20\n",
      "1000/1000 [==============================] - 1s 777us/step - loss: 0.6420 - binary_accuracy: 0.6360 - val_loss: 1.0959 - val_binary_accuracy: 0.5180\n",
      "Epoch 7/20\n",
      "1000/1000 [==============================] - 1s 994us/step - loss: 0.5768 - binary_accuracy: 0.6720 - val_loss: 2.1435 - val_binary_accuracy: 0.5190\n",
      "Epoch 8/20\n",
      "1000/1000 [==============================] - 1s 1ms/step - loss: 0.5297 - binary_accuracy: 0.7260 - val_loss: 5.6692 - val_binary_accuracy: 0.4990\n",
      "Epoch 9/20\n",
      "1000/1000 [==============================] - 1s 952us/step - loss: 0.5008 - binary_accuracy: 0.7270 - val_loss: 3.0516 - val_binary_accuracy: 0.5010\n",
      "Epoch 10/20\n",
      "1000/1000 [==============================] - 1s 994us/step - loss: 0.4953 - binary_accuracy: 0.7440 - val_loss: 1.0557 - val_binary_accuracy: 0.6810\n",
      "Epoch 11/20\n",
      "1000/1000 [==============================] - 1s 1ms/step - loss: 0.4783 - binary_accuracy: 0.7600 - val_loss: 0.6450 - val_binary_accuracy: 0.5330\n",
      "Epoch 12/20\n",
      "1000/1000 [==============================] - 1s 968us/step - loss: 0.4570 - binary_accuracy: 0.7630 - val_loss: 0.5051 - val_binary_accuracy: 0.7720\n",
      "Epoch 13/20\n",
      "1000/1000 [==============================] - 1s 1ms/step - loss: 0.4737 - binary_accuracy: 0.7550 - val_loss: 0.4323 - val_binary_accuracy: 0.7840\n",
      "Epoch 14/20\n",
      "1000/1000 [==============================] - 1s 1ms/step - loss: 0.4504 - binary_accuracy: 0.7650 - val_loss: 7.3266 - val_binary_accuracy: 0.5010\n",
      "Epoch 15/20\n",
      "1000/1000 [==============================] - 1s 993us/step - loss: 0.4614 - binary_accuracy: 0.7630 - val_loss: 1.8918 - val_binary_accuracy: 0.5280\n",
      "Epoch 16/20\n",
      "1000/1000 [==============================] - 1s 991us/step - loss: 0.4734 - binary_accuracy: 0.7580 - val_loss: 0.4994 - val_binary_accuracy: 0.7700\n",
      "Epoch 17/20\n",
      "1000/1000 [==============================] - 1s 954us/step - loss: 0.4666 - binary_accuracy: 0.7580 - val_loss: 0.5099 - val_binary_accuracy: 0.7670\n",
      "Epoch 18/20\n",
      "1000/1000 [==============================] - 1s 954us/step - loss: 0.4611 - binary_accuracy: 0.7620 - val_loss: 0.5814 - val_binary_accuracy: 0.7640\n",
      "Epoch 00018: early stopping\n",
      "1000/1000 [==============================] - 0s 205us/step\n"
     ]
    },
    {
     "data": {
      "text/plain": [
       "0.764"
      ]
     },
     "execution_count": 24,
     "metadata": {},
     "output_type": "execute_result"
    }
   ],
   "source": [
    "cnn_1 = Sequential()\n",
    "cnn_1.add(Embedding(input_length = 800,input_dim = len(vocab)+1, output_dim = 50))\n",
    "cnn_1.add(Convolution1D(64, 3, padding='same'))\n",
    "cnn_1.add(MaxPool1D(3,3,padding='same'))\n",
    "cnn_1.add(Convolution1D(64, 3, padding='same'))\n",
    "cnn_1.add(MaxPool1D(3,3,padding='same'))\n",
    "cnn_1.add(Convolution1D(64, 3, padding='same'))\n",
    "cnn_1.add(Flatten())\n",
    "cnn_1.add(Dropout(0.5))\n",
    "cnn_1.add(BatchNormalization()) # (批)规范化层\n",
    "cnn_1.add(Dense(32,activation='relu'))\n",
    "cnn_1.add(Dropout(0.5))\n",
    "cnn_1.add(Dense(2,activation='softmax'))\n",
    "\n",
    "cnn_1.compile(loss='binary_crossentropy',\n",
    "              optimizer='adam',\n",
    "              metrics=['binary_accuracy'])\n",
    "\n",
    "early_stopping = EarlyStopping(monitor='val_binary_accuracy', patience=5, verbose=2)\n",
    "\n",
    "cnn_1.fit(X_train_fit, y_train,\n",
    "          batch_size = 16,\n",
    "          epochs = 20,callbacks=[early_stopping],\n",
    "          validation_data=(X_test_fit, y_test))\n",
    "cnn_1.evaluate(X_test_fit,y_test,batch_size=16)[1]"
   ]
  },
  {
   "cell_type": "code",
   "execution_count": 19,
   "metadata": {},
   "outputs": [
    {
     "name": "stdout",
     "output_type": "stream",
     "text": [
      "model saved!\n"
     ]
    }
   ],
   "source": [
    "cnn_1.save('./saved_model/cnn_model.h5')\n",
    "print('model saved!')"
   ]
  },
  {
   "cell_type": "code",
   "execution_count": 20,
   "metadata": {},
   "outputs": [],
   "source": [
    "def get_predict_result(something):\n",
    "    sentences_ = []\n",
    "    segs_ = jieba.lcut(something)\n",
    "    sentences_.append(\" \".join(segs_))\n",
    "    transform_sentence = tokenizer.texts_to_sequences(sentences_)\n",
    "    one_hot_return = tokenizer.sequences_to_matrix(transform_sentence, mode='binary')\n",
    "    pad_result = pad_sequences(one_hot_return , maxlen=800)\n",
    "    position = cnn_1.predict(pad_result).argmax()\n",
    "    return text_feature.columns[position]"
   ]
  },
  {
   "cell_type": "code",
   "execution_count": 21,
   "metadata": {},
   "outputs": [
    {
     "data": {
      "text/plain": [
       "'feature_negative'"
      ]
     },
     "execution_count": 21,
     "metadata": {},
     "output_type": "execute_result"
    }
   ],
   "source": [
    "note = '飞机晚点，服务不好'\n",
    "get_predict_result(note)"
   ]
  },
  {
   "cell_type": "code",
   "execution_count": 22,
   "metadata": {},
   "outputs": [
    {
     "data": {
      "text/plain": [
       "'feature_positive'"
      ]
     },
     "execution_count": 22,
     "metadata": {},
     "output_type": "execute_result"
    }
   ],
   "source": [
    "note2 = '空乘小姐姐好漂亮'\n",
    "get_predict_result(note2)"
   ]
  },
  {
   "cell_type": "code",
   "execution_count": 23,
   "metadata": {},
   "outputs": [
    {
     "data": {
      "text/plain": [
       "'feature_negative'"
      ]
     },
     "execution_count": 23,
     "metadata": {},
     "output_type": "execute_result"
    }
   ],
   "source": [
    "note3 = '飞机延误五个多小时，还没有说法，天气这么热要热死个人'\n",
    "get_predict_result(note3)"
   ]
  }
 ],
 "metadata": {
  "kernelspec": {
   "display_name": "Python 3",
   "language": "python",
   "name": "python3"
  },
  "language_info": {
   "codemirror_mode": {
    "name": "ipython",
    "version": 3
   },
   "file_extension": ".py",
   "mimetype": "text/x-python",
   "name": "python",
   "nbconvert_exporter": "python",
   "pygments_lexer": "ipython3",
   "version": "3.6.5"
  },
  "toc": {
   "base_numbering": 1,
   "nav_menu": {},
   "number_sections": true,
   "sideBar": true,
   "skip_h1_title": false,
   "title_cell": "Table of Contents",
   "title_sidebar": "Contents",
   "toc_cell": false,
   "toc_position": {},
   "toc_section_display": true,
   "toc_window_display": false
  }
 },
 "nbformat": 4,
 "nbformat_minor": 2
}
